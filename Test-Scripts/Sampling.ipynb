{
 "cells": [
  {
   "cell_type": "code",
   "execution_count": 1,
   "id": "85d457cc",
   "metadata": {},
   "outputs": [],
   "source": [
    "import os\n",
    "# os.environ['CUDA_DEVICE_ORDER'] = 'PCI_BUS_ID'\n",
    "# os.environ['CUDA_VISIBLE_DEVICES'] = \"1\"\n",
    "# os.environ['PATH'] += os.pathsep + '/home/athar/XilinxTools/Vivado/2019.2/bin'\n",
    "# os.environ['PATH'] += os.pathsep + '/home/athar/XilinxTools/Vitis/2019.2/bin'"
   ]
  },
  {
   "cell_type": "code",
   "execution_count": 2,
   "id": "3b526ed1",
   "metadata": {},
   "outputs": [
    {
     "name": "stderr",
     "output_type": "stream",
     "text": [
      "2024-04-01 16:14:01.067530: I tensorflow/tsl/cuda/cudart_stub.cc:28] Could not find cuda drivers on your machine, GPU will not be used.\n",
      "2024-04-01 16:14:01.183589: I tensorflow/tsl/cuda/cudart_stub.cc:28] Could not find cuda drivers on your machine, GPU will not be used.\n",
      "2024-04-01 16:14:01.184479: I tensorflow/core/platform/cpu_feature_guard.cc:182] This TensorFlow binary is optimized to use available CPU instructions in performance-critical operations.\n",
      "To enable the following instructions: AVX2 FMA, in other operations, rebuild TensorFlow with the appropriate compiler flags.\n",
      "2024-04-01 16:14:02.268002: W tensorflow/compiler/tf2tensorrt/utils/py_utils.cc:38] TF-TRT Warning: Could not find TensorRT\n"
     ]
    }
   ],
   "source": [
    "from tensorflow import keras\n",
    "from tensorflow.keras import layers\n",
    "import tensorflow as tf\n",
    "\n",
    "import numpy as np"
   ]
  },
  {
   "cell_type": "code",
   "execution_count": 3,
   "id": "0c186898",
   "metadata": {},
   "outputs": [],
   "source": [
    "import matplotlib.pyplot as plt\n",
    "import math"
   ]
  },
  {
   "cell_type": "code",
   "execution_count": 4,
   "id": "e5518f26",
   "metadata": {},
   "outputs": [],
   "source": [
    "from tensorflow.keras.models import Model\n",
    "from tensorflow.keras.layers import Input, Dense"
   ]
  },
  {
   "cell_type": "code",
   "execution_count": 5,
   "id": "26e66130",
   "metadata": {},
   "outputs": [],
   "source": [
    "# class Sampling(layers.Layer):\n",
    "#     def __init__(self):\n",
    "#         super().__init__()\n",
    "\n",
    "#     def call(self, inputs):\n",
    "#         return keras.backend.random_normal(shape=tf.shape(inputs), mean=0.0, stddev=1.0)\n",
    "    \n",
    "#     def get_config(self):\n",
    "#         config = super().get_config()\n",
    "#         return config\n",
    "                \n",
    "class Sampling(layers.Layer):\n",
    "    def __init__(self, seed=69, mean=0, log_var=0):\n",
    "        super().__init__()\n",
    "        self.seed = seed\n",
    "        self.mean = mean\n",
    "        self.log_var = log_var\n",
    "\n",
    "    def call(self, inputs):\n",
    "        return keras.backend.random_normal(shape=tf.shape(inputs), mean=self.mean, stddev=math.sqrt(math.exp(self.log_var)), seed=self.seed)\n",
    "\n",
    "    def get_config(self):\n",
    "        config = super().get_config()\n",
    "        config.update(\n",
    "            {\n",
    "                \"seed\": self.seed,\n",
    "                \"mean\": self.mean,\n",
    "                \"log_var\": self.log_var\n",
    "            }\n",
    "        )\n",
    "        return config\n",
    "                \n",
    "               "
   ]
  },
  {
   "cell_type": "code",
   "execution_count": 6,
   "id": "afb94ad1",
   "metadata": {},
   "outputs": [],
   "source": [
    "test_input_dim=32"
   ]
  },
  {
   "cell_type": "code",
   "execution_count": 7,
   "id": "a6a148de",
   "metadata": {
    "scrolled": true
   },
   "outputs": [
    {
     "name": "stdout",
     "output_type": "stream",
     "text": [
      "Model: \"model\"\n",
      "_________________________________________________________________\n",
      " Layer (type)                Output Shape              Param #   \n",
      "=================================================================\n",
      " input_1 (InputLayer)        [(None, 32)]              0         \n",
      "                                                                 \n",
      " sampling (Sampling)         (None, 32)                0         \n",
      "                                                                 \n",
      "=================================================================\n",
      "Total params: 0\n",
      "Trainable params: 0\n",
      "Non-trainable params: 0\n",
      "_________________________________________________________________\n"
     ]
    },
    {
     "name": "stderr",
     "output_type": "stream",
     "text": [
      "2024-04-01 16:14:04.178937: I tensorflow/compiler/xla/stream_executor/cuda/cuda_gpu_executor.cc:996] successful NUMA node read from SysFS had negative value (-1), but there must be at least one NUMA node, so returning NUMA node zero. See more at https://github.com/torvalds/linux/blob/v6.0/Documentation/ABI/testing/sysfs-bus-pci#L344-L355\n",
      "2024-04-01 16:14:04.180118: W tensorflow/core/common_runtime/gpu/gpu_device.cc:1956] Cannot dlopen some GPU libraries. Please make sure the missing libraries mentioned above are installed properly if you would like to use GPU. Follow the guide at https://www.tensorflow.org/install/gpu for how to download and setup the required libraries for your platform.\n",
      "Skipping registering GPU devices...\n"
     ]
    }
   ],
   "source": [
    "x_in = Input(shape=(test_input_dim, ))\n",
    "\n",
    "# test add dense\n",
    "# x = Dense(16)(x_in)\n",
    "\n",
    "# x = Sampling()(x_in)\n",
    "x = Sampling(seed=42, mean=0, log_var=0)(x_in)\n",
    "# test add dense\n",
    "# x = Dense(16)(x)\n",
    "\n",
    "model = Model(inputs=x_in, outputs=x)\n",
    "model.summary()\n"
   ]
  },
  {
   "cell_type": "code",
   "execution_count": 8,
   "id": "548cc0d2",
   "metadata": {},
   "outputs": [],
   "source": [
    "import json"
   ]
  },
  {
   "cell_type": "code",
   "execution_count": 9,
   "id": "a3590a96",
   "metadata": {},
   "outputs": [],
   "source": [
    "import pprint"
   ]
  },
  {
   "cell_type": "code",
   "execution_count": 10,
   "id": "b7c7b316",
   "metadata": {},
   "outputs": [],
   "source": [
    "model_arch = json.loads(model.to_json())\n",
    "layer_config = model_arch['config']['layers']"
   ]
  },
  {
   "cell_type": "code",
   "execution_count": 11,
   "id": "9ccbf614",
   "metadata": {
    "scrolled": true
   },
   "outputs": [
    {
     "name": "stdout",
     "output_type": "stream",
     "text": [
      "[{'class_name': 'InputLayer',\n",
      "  'config': {'batch_input_shape': [None, 32],\n",
      "             'dtype': 'float32',\n",
      "             'name': 'input_1',\n",
      "             'ragged': False,\n",
      "             'sparse': False},\n",
      "  'inbound_nodes': [],\n",
      "  'name': 'input_1'},\n",
      " {'class_name': 'Sampling',\n",
      "  'config': {'dtype': 'float32',\n",
      "             'log_var': 0,\n",
      "             'mean': 0,\n",
      "             'name': 'sampling',\n",
      "             'seed': 42,\n",
      "             'trainable': True},\n",
      "  'inbound_nodes': [[['input_1', 0, 0, {}]]],\n",
      "  'name': 'sampling'}]\n"
     ]
    }
   ],
   "source": [
    "pprint.pprint(layer_config)"
   ]
  },
  {
   "cell_type": "code",
   "execution_count": 12,
   "id": "c7216673",
   "metadata": {},
   "outputs": [],
   "source": [
    "# x_test = np.random.rand(1, test_input_dim)\n",
    "x_test = np.zeros(test_input_dim)"
   ]
  },
  {
   "cell_type": "code",
   "execution_count": 13,
   "id": "8f234297",
   "metadata": {},
   "outputs": [
    {
     "data": {
      "text/plain": [
       "array([0., 0., 0., 0., 0., 0., 0., 0., 0., 0., 0., 0., 0., 0., 0., 0., 0.,\n",
       "       0., 0., 0., 0., 0., 0., 0., 0., 0., 0., 0., 0., 0., 0., 0.])"
      ]
     },
     "execution_count": 13,
     "metadata": {},
     "output_type": "execute_result"
    }
   ],
   "source": [
    "x_test"
   ]
  },
  {
   "cell_type": "code",
   "execution_count": 14,
   "id": "57a26b4b",
   "metadata": {},
   "outputs": [
    {
     "name": "stdout",
     "output_type": "stream",
     "text": [
      "1/1 [==============================] - 0s 84ms/step\n"
     ]
    }
   ],
   "source": [
    "y_model = model.predict(x_test)"
   ]
  },
  {
   "cell_type": "code",
   "execution_count": 15,
   "id": "7fd0ba9d",
   "metadata": {},
   "outputs": [
    {
     "name": "stdout",
     "output_type": "stream",
     "text": [
      "[-0.28077507 -0.1377521  -0.6763296   0.02458041 -0.89358455 -0.82847327\n",
      "  1.2068944   1.3810157  -1.4557977  -0.24621388 -1.3608406   1.0879604\n",
      " -0.3511659  -0.5138534   3.4117208   0.05885482  0.8918024  -0.7528832\n",
      " -0.43357283  2.4538531   0.31374422 -0.52736205  0.85249925 -0.5379132\n",
      "  1.0512363   0.09101018  0.04078108  0.8860364  -0.6597835   2.7017565\n",
      "  0.94328713  0.14154702]\n"
     ]
    }
   ],
   "source": [
    "print(y_model)"
   ]
  },
  {
   "cell_type": "code",
   "execution_count": 16,
   "id": "b446da79",
   "metadata": {},
   "outputs": [
    {
     "data": {
      "image/png": "[encoded data removed]",
      "text/plain": [
       "<Figure size 640x480 with 1 Axes>"
      ]
     },
     "metadata": {},
     "output_type": "display_data"
    }
   ],
   "source": [
    "plt.hist(y_model.flatten(), bins=100, density=True, alpha=0.7, color='b')\n",
    "#plt.plot(data)\n",
    "plt.xlabel('Value')\n",
    "plt.ylabel('Frequency')\n",
    "plt.title('Data Distribution')\n",
    "plt.grid(True)\n",
    "#plt.savefig(\"random normal distribution.png\")\n",
    "plt.show()\n"
   ]
  },
  {
   "cell_type": "code",
   "execution_count": 17,
   "id": "7cfde67e",
   "metadata": {},
   "outputs": [
    {
     "data": {
      "text/plain": [
       "0.2463212"
      ]
     },
     "execution_count": 17,
     "metadata": {},
     "output_type": "execute_result"
    }
   ],
   "source": [
    "np.mean(y_model)"
   ]
  },
  {
   "cell_type": "code",
   "execution_count": 18,
   "id": "6543eb4b",
   "metadata": {},
   "outputs": [
    {
     "data": {
      "text/plain": [
       "1.1210766"
      ]
     },
     "execution_count": 18,
     "metadata": {},
     "output_type": "execute_result"
    }
   ],
   "source": [
    "np.std(y_model)"
   ]
  },
  {
   "cell_type": "code",
   "execution_count": 19,
   "id": "e41ce580",
   "metadata": {},
   "outputs": [
    {
     "data": {
      "text/plain": [
       "1.2568128"
      ]
     },
     "execution_count": 19,
     "metadata": {},
     "output_type": "execute_result"
    }
   ],
   "source": [
    "np.var(y_model)"
   ]
  },
  {
   "cell_type": "markdown",
   "id": "ce0b682d",
   "metadata": {},
   "source": [
    "# To HLS"
   ]
  },
  {
   "cell_type": "code",
   "execution_count": 20,
   "id": "906a57fc",
   "metadata": {},
   "outputs": [
    {
     "name": "stderr",
     "output_type": "stream",
     "text": [
      "/home/athar/HLS4ML/hls4ml/hls4ml/converters/__init__.py:24: UserWarning: WARNING: Pytorch converter is not enabled!\n",
      "  warnings.warn(\"WARNING: Pytorch converter is not enabled!\", stacklevel=1)\n"
     ]
    }
   ],
   "source": [
    "import hls4ml"
   ]
  },
  {
   "cell_type": "code",
   "execution_count": 21,
   "id": "7a6be018",
   "metadata": {},
   "outputs": [],
   "source": [
    "from hls4ml.converters.keras_to_hls import parse_default_keras_layer"
   ]
  },
  {
   "cell_type": "code",
   "execution_count": 22,
   "id": "191c484b",
   "metadata": {},
   "outputs": [],
   "source": [
    "# def parse_sampling_layer(keras_layer, input_names, input_shapes, data_reader):\n",
    "#     assert keras_layer[\"class_name\"] == 'Sampling'\n",
    "\n",
    "#     layer = parse_default_keras_layer(keras_layer, input_names)\n",
    "#     #layer = {}\n",
    "#     layer['class_name'] = 'Sampling'\n",
    "    \n",
    "#     # input size same as output size\n",
    "#     layer['n_elem'] = input_shapes[0][1] #1024\n",
    "#     # print(f\"input_shapes: {input_shapes}\") [[None, 1024]]\n",
    "#     output_shape = [shape for shape in input_shapes[0]]\n",
    "    \n",
    "    \n",
    "#     return layer, output_shape\n",
    "\n",
    "def parse_sampling_layer(keras_layer, input_names, input_shapes, data_reader):\n",
    "    assert keras_layer[\"class_name\"] == 'Sampling'\n",
    "\n",
    "    layer = parse_default_keras_layer(keras_layer, input_names)\n",
    "    #layer = {}\n",
    "    layer['class_name'] = 'Sampling'\n",
    "    \n",
    "    # input size same as output size\n",
    "    layer['n_elem'] = input_shapes[0][1] #1024\n",
    "    # print(f\"input_shapes: {input_shapes}\") [[None, 1024]]\n",
    "    output_shape = [shape for shape in input_shapes[0]]\n",
    "\n",
    "    layer['seed'] = keras_layer['config'].get('seed', 42)\n",
    "    layer['mean'] = keras_layer['config'].get('mean', 0)\n",
    "    layer['log_var'] = keras_layer['config'].get('log_var', 0)\n",
    "    \n",
    "    return layer, output_shape"
   ]
  },
  {
   "cell_type": "code",
   "execution_count": 23,
   "id": "4bcfbaed",
   "metadata": {},
   "outputs": [],
   "source": [
    "# hls4ml layer implementation\n",
    "class H_Sampling(hls4ml.model.layers.Layer):\n",
    "    '''hls4ml implementation of a hypothetical custom layer'''\n",
    "\n",
    "    def initialize(self):\n",
    "        inp = self.get_input_variable()\n",
    "        shape = inp.shape\n",
    "        dims = inp.dim_names\n",
    "        self.add_output_variable(shape, dims)"
   ]
  },
  {
   "cell_type": "code",
   "execution_count": 24,
   "id": "269681c7",
   "metadata": {},
   "outputs": [],
   "source": [
    "#### Normal config ############\n",
    "# sampling_config_template = \"\"\"struct config{index} : nnet::sampling_config {{\n",
    "#     static const unsigned n_elem = {n_elem};\n",
    "#     typedef ap_fixed<16,4> result_t;\n",
    "#     typedef ap_int<130> seed_t;\n",
    "#     static const int seed = {seed};\n",
    "#     static const unsigned table_size = 1024;\n",
    "#     static const unsigned exp_range = 10;\n",
    "#     typedef ap_fixed<18,8> exp_table_t;\n",
    "#     static constexpr float mean = {mean};\n",
    "#     static constexpr float log_var = {log_var};\n",
    "# }};\\n\n",
    "# nnet::GRNGArray<config{index}::n_elem, typename config{index}::result_t, typename config{index}::exp_table_t, config{index}::table_size, config{index}::exp_range> normal{{(config{index}::seed)}};\"\"\"\n",
    "\n",
    "# sampling_function_template = 'nnet::sampling<{input_t}, {output_t}, {config}>({input}, {output}, normal);'\n",
    "# sampling_include_list = ['nnet_utils/nnet_sampling.h']\n",
    "\n",
    "####### Mean and var edited ##############\n",
    "sampling_config_template = \"\"\"struct config{index} : nnet::sampling_config {{\n",
    "    static const unsigned n_elem = {n_elem};\n",
    "    typedef ap_fixed<16,4> result_t;\n",
    "    static const unsigned table_size = 1024;\n",
    "    static const unsigned exp_range = 10;\n",
    "    typedef ap_fixed<18,8> exp_table_t;\n",
    "    static const int seed = {seed};\n",
    "}};\\n\n",
    "nnet::GRNGArray<config{index}::n_elem, typename config{index}::result_t, typename config{index}::exp_table_t, config{index}::table_size, config{index}::exp_range> normal{{(config{index}::seed)}};\"\"\"\n",
    "\n",
    "sampling_function_template = 'nnet::sampling<{input_t}, {output_t}, {config}>({input}, {output}, {mean}, {log_var}, normal);'\n",
    "sampling_include_list = ['nnet_utils/nnet_sampling.h']\n",
    "\n",
    "\n",
    "class SamplingConfigTemplate(hls4ml.backends.template.LayerConfigTemplate):\n",
    "    def __init__(self):\n",
    "        super().__init__(H_Sampling)\n",
    "        self.template = sampling_config_template\n",
    "\n",
    "    def format(self, node):\n",
    "        params = self._default_config_params(node)\n",
    "        return self.template.format(**params)\n",
    "    \n",
    "class SamplingFunctionTemplate(hls4ml.backends.template.FunctionCallTemplate):\n",
    "    def __init__(self):\n",
    "        super().__init__(H_Sampling, include_header=sampling_include_list)\n",
    "        self.template = sampling_function_template\n",
    "\n",
    "    def format(self, node):\n",
    "        params = self._default_function_params(node)\n",
    "        return self.template.format(**params)"
   ]
  },
  {
   "cell_type": "code",
   "execution_count": 25,
   "id": "e9e0344b",
   "metadata": {},
   "outputs": [],
   "source": [
    "# Register the converter for custom Keras layer\n",
    "hls4ml.converters.register_keras_layer_handler('Sampling', parse_sampling_layer)"
   ]
  },
  {
   "cell_type": "code",
   "execution_count": 26,
   "id": "b3186ab0",
   "metadata": {},
   "outputs": [],
   "source": [
    "# Register the hls4ml's IR layer\n",
    "hls4ml.model.layers.register_layer('Sampling', H_Sampling)"
   ]
  },
  {
   "cell_type": "code",
   "execution_count": 27,
   "id": "e37ea67e",
   "metadata": {},
   "outputs": [],
   "source": [
    "for backend_id in ['Vivado', 'Quartus', 'VivadoAccelerator']:\n",
    "    # Register the optimization passes (if any)\n",
    "    backend = hls4ml.backends.get_backend(backend_id)\n",
    "    #backend.register_pass('remove_duplicate_reverse', RemoveDuplicateReverse, flow=f'{backend_id.lower()}:optimize')\n",
    "\n",
    "    # Register template passes for the given backend\n",
    "    backend.register_template(SamplingConfigTemplate)\n",
    "    backend.register_template(SamplingFunctionTemplate)\n",
    "\n",
    "    # Register HLS implementation\n",
    "    backend.register_source('/home/athar/HLS4ML/GRNG/new_GRNG/nnet_sampling.h')"
   ]
  },
  {
   "cell_type": "code",
   "execution_count": 28,
   "id": "2d4cef6f",
   "metadata": {},
   "outputs": [
    {
     "name": "stdout",
     "output_type": "stream",
     "text": [
      "Interpreting Model\n",
      "Topology:\n",
      "Layer name: input_1, layer type: InputLayer, input shapes: [[None, 32]], output shape: [None, 32]\n",
      "Layer name: sampling, layer type: Sampling, input shapes: [[None, 32]], output shape: [None, 32]\n",
      "{'LayerName': {'input_1': {'Precision': {'result': 'ap_fixed<16,4>'},\n",
      "                           'Trace': False},\n",
      "               'sampling': {'Precision': {'result': 'ap_fixed<16,4>'},\n",
      "                            'Trace': False}},\n",
      " 'Model': {'BramFactor': 1000000000,\n",
      "           'Precision': 'ap_fixed<16,4>',\n",
      "           'ReuseFactor': 4,\n",
      "           'Strategy': 'Resource',\n",
      "           'TraceOutput': False}}\n"
     ]
    }
   ],
   "source": [
    "hls4ml.model.optimizer.passes.qkeras.OutputRoundingSaturationMode.layers = ['Activation']\n",
    "hls4ml.model.optimizer.passes.qkeras.OutputRoundingSaturationMode.rounding_mode = 'AP_RND_CONV'\n",
    "hls4ml.model.optimizer.passes.qkeras.OutputRoundingSaturationMode.saturation_mode = 'AP_SAT'\n",
    "config = hls4ml.utils.config_from_keras_model(model, granularity='name', default_precision='ap_fixed<16,4>', default_reuse_factor=4)\n",
    "config['Model']['Strategy'] = 'Resource'\n",
    "pprint.pprint(config)  \n"
   ]
  },
  {
   "cell_type": "code",
   "execution_count": 29,
   "id": "bc52d081",
   "metadata": {},
   "outputs": [
    {
     "name": "stdout",
     "output_type": "stream",
     "text": [
      "Interpreting Model\n",
      "Topology:\n",
      "Layer name: input_1, layer type: InputLayer, input shapes: [[None, 32]], output shape: [None, 32]\n",
      "Layer name: sampling, layer type: Sampling, input shapes: [[None, 32]], output shape: [None, 32]\n",
      "Creating HLS model\n",
      "Writing HLS project\n",
      "WARNING:tensorflow:Compiled the loaded model, but the compiled metrics have yet to be built. `model.compile_metrics` will be empty until you train or evaluate the model.\n"
     ]
    },
    {
     "name": "stdout",
     "output_type": "stream",
     "text": [
      "Done\n"
     ]
    }
   ],
   "source": [
    "hls_model = hls4ml.converters.convert_from_keras_model(model,\n",
    "                                                       hls_config=config,\n",
    "                                                       output_dir='./hls_model/Sampling',\n",
    "                                                       io_type = 'io_stream',\n",
    "                                                       #backend='VivadoAccelerator', board='pynq-z2')\n",
    "                                                       part='xc7z020clg400-1',\n",
    "                                                       backend='Vivado')\n",
    "hls_model.compile()"
   ]
  },
  {
   "cell_type": "code",
   "execution_count": 30,
   "id": "6ac8cecb",
   "metadata": {
    "scrolled": false
   },
   "outputs": [],
   "source": [
    "y_hls = hls_model.predict(x_test.astype('float32'))"
   ]
  },
  {
   "cell_type": "code",
   "execution_count": 31,
   "id": "9ffb8313",
   "metadata": {
    "scrolled": true
   },
   "outputs": [
    {
     "data": {
      "text/plain": [
       "array([-0.42358398,  0.44555664, -0.43554688, -0.02197266, -0.8388672 ,\n",
       "        0.37939453,  0.5671387 ,  0.2512207 ,  1.0339355 , -1.407959  ,\n",
       "        0.59716797, -1.0229492 ,  2.488037  , -0.92993164, -0.5058594 ,\n",
       "       -0.9309082 , -1.8552246 , -1.3850098 , -1.3647461 ,  1.4577637 ,\n",
       "       -0.56689453, -0.23510742,  0.7702637 , -1.6608887 , -0.1550293 ,\n",
       "       -1.9348145 ,  1.0307617 , -0.02636719, -0.09008789, -0.27612305,\n",
       "        1.2189941 ,  0.4597168 ], dtype=float32)"
      ]
     },
     "execution_count": 31,
     "metadata": {},
     "output_type": "execute_result"
    }
   ],
   "source": [
    "y_hls"
   ]
  },
  {
   "cell_type": "code",
   "execution_count": 32,
   "id": "9e09bdb6",
   "metadata": {},
   "outputs": [
    {
     "data": {
      "text/plain": [
       "-0.1677475"
      ]
     },
     "execution_count": 32,
     "metadata": {},
     "output_type": "execute_result"
    }
   ],
   "source": [
    "np.mean(y_hls)"
   ]
  },
  {
   "cell_type": "code",
   "execution_count": 33,
   "id": "12af31c9",
   "metadata": {},
   "outputs": [
    {
     "data": {
      "text/plain": [
       "1.018894"
      ]
     },
     "execution_count": 33,
     "metadata": {},
     "output_type": "execute_result"
    }
   ],
   "source": [
    "np.std(y_hls)"
   ]
  },
  {
   "cell_type": "code",
   "execution_count": 34,
   "id": "79993bde",
   "metadata": {},
   "outputs": [
    {
     "data": {
      "text/plain": [
       "1.0381448"
      ]
     },
     "execution_count": 34,
     "metadata": {},
     "output_type": "execute_result"
    }
   ],
   "source": [
    "np.var(y_hls)"
   ]
  },
  {
   "cell_type": "code",
   "execution_count": 35,
   "id": "58ea2c78",
   "metadata": {},
   "outputs": [
    {
     "data": {
      "text/plain": [
       "(32,)"
      ]
     },
     "execution_count": 35,
     "metadata": {},
     "output_type": "execute_result"
    }
   ],
   "source": [
    "y_hls.shape"
   ]
  },
  {
   "cell_type": "code",
   "execution_count": 36,
   "id": "af4d5860",
   "metadata": {},
   "outputs": [
    {
     "data": {
      "image/png": "[encoded data removed]",
      "text/plain": [
       "<Figure size 640x480 with 1 Axes>"
      ]
     },
     "metadata": {},
     "output_type": "display_data"
    }
   ],
   "source": [
    "plt.hist(y_hls.flatten(), bins=100, density=True, alpha=0.7, color='b')\n",
    "#plt.plot(data)\n",
    "plt.xlabel('Value')\n",
    "plt.ylabel('Frequency')\n",
    "plt.title('HLS Sampling Data Distribution')\n",
    "plt.grid(True)\n",
    "#plt.savefig(\"random normal distribution.png\")\n",
    "plt.show()"
   ]
  },
  {
   "cell_type": "code",
   "execution_count": 37,
   "id": "e4eb2c96",
   "metadata": {},
   "outputs": [],
   "source": [
    "# with open('srn_multihat.txt', 'w') as f:\n",
    "#     for val in y_hls:\n",
    "#         f.write(str(val) + '\\n')"
   ]
  },
  {
   "cell_type": "code",
   "execution_count": 38,
   "id": "e82cb0c2",
   "metadata": {},
   "outputs": [
    {
     "name": "stdout",
     "output_type": "stream",
     "text": [
      "\n",
      "****** Vivado(TM) HLS - High-Level Synthesis from C, C++ and SystemC v2019.2 (64-bit)\n",
      "  **** SW Build 2708876 on Wed Nov  6 21:39:14 MST 2019\n",
      "  **** IP Build 2700528 on Thu Nov  7 00:09:20 MST 2019\n",
      "    ** Copyright 1986-2019 Xilinx, Inc. All Rights Reserved.\n",
      "\n",
      "source /home/athar/XilinxTools/Vivado/2019.2/scripts/vivado_hls/hls.tcl -notrace\n",
      "INFO: [HLS 200-10] Running '/home/athar/XilinxTools/Vivado/2019.2/bin/unwrapped/lnx64.o/vivado_hls'\n",
      "INFO: [HLS 200-10] For user 'athar' on host 'LenovoSlim' (Linux_x86_64 version 5.15.0-101-generic) on Mon Apr 01 16:14:21 PDT 2024\n",
      "INFO: [HLS 200-10] On os Ubuntu 22.04.3 LTS\n",
      "INFO: [HLS 200-10] In directory '/home/athar/HLS4ML/GRNG/new_GRNG/hls_model/Sampling'\n",
      "Sourcing Tcl script 'build_prj.tcl'\n",
      "INFO: [HLS 200-10] Opening project '/home/athar/HLS4ML/GRNG/new_GRNG/hls_model/Sampling/myproject_prj'.\n",
      "INFO: [HLS 200-10] Adding design file 'firmware/myproject.cpp' to the project\n",
      "INFO: [HLS 200-10] Adding test bench file 'myproject_test.cpp' to the project\n",
      "INFO: [HLS 200-10] Adding test bench file 'firmware/weights' to the project\n",
      "INFO: [HLS 200-10] Adding test bench file 'tb_data' to the project\n",
      "INFO: [HLS 200-10] Opening solution '/home/athar/HLS4ML/GRNG/new_GRNG/hls_model/Sampling/myproject_prj/solution1'.\n",
      "INFO: [SYN 201-201] Setting up clock 'default' with a period of 5ns.\n",
      "INFO: [SYN 201-201] Setting up clock 'default' with an uncertainty of 0.625ns.\n",
      "INFO: [HLS 200-10] Setting target device to 'xc7z020-clg400-1'\n",
      "INFO: [XFORM 203-101] Allowed max sub elements number after partition is 4096.\n",
      "INFO: [XFORM 203-1161] The maximum of name length is set into 80.\n",
      "INFO: [XFORM 203-101] Allowed max sub elements number after partition is 4096.\n",
      "INFO: [XFORM 203-1161] The maximum of name length is set into 80.\n",
      "***** C/RTL SYNTHESIS *****\n",
      "INFO: [SCHED 204-61] Option 'relax_ii_for_timing' is enabled, will increase II to preserve clock frequency constraints.\n",
      "INFO: [HLS 200-10] Analyzing design file 'firmware/myproject.cpp' ... \n",
      "WARNING: [HLS 214-113] Either use an argument of the function or declare the variable inside the dataflow loop body: firmware/myproject.cpp:47:72\n",
      "WARNING: [HLS 200-471] Dataflow form checks found 1 issue(s) in file firmware/myproject.cpp\n",
      "INFO: [HLS 200-111] Finished Linking Time (s): cpu = 00:00:35 ; elapsed = 00:00:37 . Memory (MB): peak = 928.488 ; gain = 521.035 ; free physical = 5678 ; free virtual = 12127\n",
      "INFO: [HLS 200-111] Finished Checking Pragmas Time (s): cpu = 00:00:35 ; elapsed = 00:00:37 . Memory (MB): peak = 928.488 ; gain = 521.035 ; free physical = 5678 ; free virtual = 12127\n",
      "INFO: [HLS 200-10] Starting code transformations ...\n",
      "INFO: [XFORM 203-501] Unrolling loop 'NextGrngLoop1' (firmware/nnet_utils/nnet_sampling.h:438) in function 'nnet::GRNGArray<32u, ap_fixed<16, 4, (ap_q_mode)5, (ap_o_mode)3, 0>, ap_fixed<18, 8, (ap_q_mode)5, (ap_o_mode)3, 0>, 1024u, 10u>::nextGRNG(ap_fixed<18, 8, (ap_q_mode)5, (ap_o_mode)3, 0>, ap_fixed<18, 8, (ap_q_mode)5, (ap_o_mode)3, 0>, ap_fixed<18, 8, (ap_q_mode)5, (ap_o_mode)3, 0>*, ap_fixed<16, 4, (ap_q_mode)5, (ap_o_mode)3, 0>*)': changing partial unrolling into complete unrolling since the unrolling factor (=32) is no less than the loop trip count (=32).\n",
      "INFO: [XFORM 203-501] Unrolling loop 'loop_1' (firmware/nnet_utils/nnet_sampling.h:22) in function 'nnet::RNG::LFSR()': changing partial unrolling into complete unrolling since the unrolling factor (=120) is no less than the loop trip count (=120).\n",
      "INFO: [XFORM 203-501] Unrolling loop 'loop_2' (firmware/nnet_utils/nnet_sampling.h:26) in function 'nnet::RNG::LFSR()': changing partial unrolling into complete unrolling since the unrolling factor (=10) is no less than the loop trip count (=10).\n",
      "INFO: [XFORM 203-501] Unrolling loop 'NextRandArrayLoop' (firmware/nnet_utils/nnet_sampling.h:417) in function 'nnet::GRNGArray<32u, ap_fixed<16, 4, (ap_q_mode)5, (ap_o_mode)3, 0>, ap_fixed<18, 8, (ap_q_mode)5, (ap_o_mode)3, 0>, 1024u, 10u>::GRNGArray(ap_int<130>)': changing partial unrolling into complete unrolling since the unrolling factor (=32) is no less than the loop trip count (=32).\n",
      "INFO: [XFORM 203-603] Inlining function 'nnet::array<ap_fixed<16, 4, (ap_q_mode)5, (ap_o_mode)3, 0>, 32u>::operator[]' into 'nnet::sampling<nnet::array<ap_fixed<16, 4, (ap_q_mode)5, (ap_o_mode)3, 0>, 32u>, nnet::array<ap_fixed<16, 4, (ap_q_mode)5, (ap_o_mode)3, 0>, 32u>, config2>' (firmware/nnet_utils/nnet_sampling.h:527).\n",
      "INFO: [HLS 200-111] Finished Standard Transforms Time (s): cpu = 00:00:36 ; elapsed = 00:00:38 . Memory (MB): peak = 930.203 ; gain = 522.750 ; free physical = 5641 ; free virtual = 12095\n",
      "INFO: [HLS 200-10] Checking synthesizability ...\n",
      "INFO: [XFORM 203-602] Inlining function 'nnet::GRNG<ap_fixed<16, 4, (ap_q_mode)5, (ap_o_mode)3, 0> >::next' into 'nnet::GRNGArray<32u, ap_fixed<16, 4, (ap_q_mode)5, (ap_o_mode)3, 0>, ap_fixed<18, 8, (ap_q_mode)5, (ap_o_mode)3, 0>, 1024u, 10u>::nextGRNG' (firmware/nnet_utils/nnet_sampling.h:440) automatically.\n",
      "INFO: [XFORM 203-602] Inlining function 'nnet::GRNGArray<32u, ap_fixed<16, 4, (ap_q_mode)5, (ap_o_mode)3, 0>, ap_fixed<18, 8, (ap_q_mode)5, (ap_o_mode)3, 0>, 1024u, 10u>::nextGRNG' into 'nnet::sampling<nnet::array<ap_fixed<16, 4, (ap_q_mode)5, (ap_o_mode)3, 0>, 32u>, nnet::array<ap_fixed<16, 4, (ap_q_mode)5, (ap_o_mode)3, 0>, 32u>, config2>' (firmware/nnet_utils/nnet_sampling.h:520) automatically.\n",
      "WARNING: [SYNCHK 200-23] firmware/nnet_utils/nnet_sampling.h:24: variable-indexed range selection may cause suboptimal QoR.\n",
      "INFO: [SYNCHK 200-10] 0 error(s), 1 warning(s).\n",
      "INFO: [HLS 200-111] Finished Checking Synthesizability Time (s): cpu = 00:00:36 ; elapsed = 00:00:39 . Memory (MB): peak = 930.203 ; gain = 522.750 ; free physical = 5616 ; free virtual = 12070\n",
      "INFO: [XFORM 203-1101] Packing variable 'res_pack.data.V' (firmware/nnet_utils/nnet_sampling.h:522) into a 512-bit variable.\n",
      "INFO: [XFORM 203-502] Unrolling all loops for pipelining in function 'nnet::sampling<nnet::array<ap_fixed<16, 4, (ap_q_mode)5, (ap_o_mode)3, 0>, 32u>, nnet::array<ap_fixed<16, 4, (ap_q_mode)5, (ap_o_mode)3, 0>, 32u>, config2>' (firmware/nnet_utils/nnet_sampling.h:501:51).\n",
      "INFO: [XFORM 203-502] Unrolling all loops for pipelining in function 'nnet::RNG::LFSR' (firmware/nnet_utils/nnet_sampling.h:16).\n",
      "WARNING: [XFORM 203-503] Ignored partial unroll directive for loop 'loop_1' (firmware/nnet_utils/nnet_sampling.h:22) because its parent loop or function is pipelined.\n",
      "WARNING: [XFORM 203-503] Ignored partial unroll directive for loop 'loop_2' (firmware/nnet_utils/nnet_sampling.h:26) because its parent loop or function is pipelined.\n",
      "INFO: [XFORM 203-502] Unrolling all loops for pipelining in function 'nnet::GRNGArray<32u, ap_fixed<16, 4, (ap_q_mode)5, (ap_o_mode)3, 0>, ap_fixed<18, 8, (ap_q_mode)5, (ap_o_mode)3, 0>, 1024u, 10u>::nextGRNG' (firmware/nnet_utils/nnet_sampling.h:434).\n",
      "WARNING: [XFORM 203-503] Ignored partial unroll directive for loop 'NextGrngLoop1' (firmware/nnet_utils/nnet_sampling.h:438) because its parent loop or function is pipelined.\n",
      "INFO: [HLS 200-489] Unrolling loop 'RNGLoop' (firmware/nnet_utils/nnet_sampling.h:525) in function 'nnet::sampling<nnet::array<ap_fixed<16, 4, (ap_q_mode)5, (ap_o_mode)3, 0>, 32u>, nnet::array<ap_fixed<16, 4, (ap_q_mode)5, (ap_o_mode)3, 0>, 32u>, config2>' completely with a factor of 32.\n",
      "INFO: [HLS 200-489] Unrolling loop 'loop_1' (firmware/nnet_utils/nnet_sampling.h:22) in function 'nnet::RNG::LFSR' completely with a factor of 120.\n",
      "INFO: [HLS 200-489] Unrolling loop 'loop_2' (firmware/nnet_utils/nnet_sampling.h:26) in function 'nnet::RNG::LFSR' completely with a factor of 10.\n",
      "INFO: [HLS 200-489] Unrolling loop 'NextGrngLoop1' (firmware/nnet_utils/nnet_sampling.h:438) in function 'nnet::GRNGArray<32u, ap_fixed<16, 4, (ap_q_mode)5, (ap_o_mode)3, 0>, ap_fixed<18, 8, (ap_q_mode)5, (ap_o_mode)3, 0>, 1024u, 10u>::nextGRNG' completely with a factor of 32.\n",
      "INFO: [XFORM 203-102] Automatically partitioning streamed array 'input_1.V.data.V' (firmware/myproject.cpp:25) .\n",
      "INFO: [XFORM 203-102] Automatically partitioning streamed array 'layer2_out.V.data.V' (firmware/myproject.cpp:26) .\n",
      "INFO: [XFORM 203-101] Partitioning array 'input_1.V.data.V' (firmware/myproject.cpp:25) in dimension 1 completely.\n",
      "INFO: [XFORM 203-101] Partitioning array 'layer2_out.V.data.V' (firmware/myproject.cpp:26) in dimension 1 completely.\n",
      "INFO: [XFORM 203-101] Partitioning array 'tmp.data.V' in dimension 1 completely.\n",
      "INFO: [XFORM 203-101] Partitioning array 'rnd'  in dimension 1 completely.\n",
      "INFO: [XFORM 203-101] Partitioning array 'normal.grng.rng.regs.V'  in dimension 1 completely.\n",
      "INFO: [XFORM 203-712] Applying dataflow to function 'myproject', detected/extracted 1 process function(s): \n",
      "\t 'nnet::sampling<nnet::array<ap_fixed<16, 4, (ap_q_mode)5, (ap_o_mode)3, 0>, 32u>, nnet::array<ap_fixed<16, 4, (ap_q_mode)5, (ap_o_mode)3, 0>, 32u>, config2>'.\n",
      "INFO: [XFORM 203-401] Performing if-conversion on hyperblock from (firmware/nnet_utils/nnet_sampling.h:293:1) to (firmware/nnet_utils/nnet_sampling.h:369:13) in function 'nnet::GRNG<ap_fixed<16, 4, (ap_q_mode)5, (ap_o_mode)3, 0> >::hat_mul4'... converting 7 basic blocks.\n",
      "INFO: [XFORM 203-401] Performing if-conversion on hyperblock from (firmware/nnet_utils/nnet_sampling.h:214:1) to (firmware/nnet_utils/nnet_sampling.h:290:13) in function 'nnet::GRNG<ap_fixed<16, 4, (ap_q_mode)5, (ap_o_mode)3, 0> >::hat_mul3'... converting 7 basic blocks.\n",
      "INFO: [XFORM 203-401] Performing if-conversion on hyperblock from (firmware/nnet_utils/nnet_sampling.h:135:1) to (firmware/nnet_utils/nnet_sampling.h:211:13) in function 'nnet::GRNG<ap_fixed<16, 4, (ap_q_mode)5, (ap_o_mode)3, 0> >::hat_mul2'... converting 7 basic blocks.\n",
      "INFO: [XFORM 203-401] Performing if-conversion on hyperblock from (firmware/nnet_utils/nnet_sampling.h:56:1) to (firmware/nnet_utils/nnet_sampling.h:132:10) in function 'nnet::GRNG<ap_fixed<16, 4, (ap_q_mode)5, (ap_o_mode)3, 0> >::hat_mul1'... converting 7 basic blocks.\n",
      "INFO: [HLS 200-111] Finished Pre-synthesis Time (s): cpu = 00:00:39 ; elapsed = 00:00:41 . Memory (MB): peak = 993.902 ; gain = 586.449 ; free physical = 5565 ; free virtual = 12019\n",
      "WARNING: [XFORM 203-631] Renaming function 'nnet::sampling<nnet::array<ap_fixed<16, 4, (ap_q_mode)5, (ap_o_mode)3, 0>, 32u>, nnet::array<ap_fixed<16, 4, (ap_q_mode)5, (ap_o_mode)3, 0>, 32u>, config2>' to 'sampling<array<ap_fixed,32u>,array<ap_fixed<16,4,5,3,0>,32u>,config2>' (firmware/nnet_utils/nnet_sampling.h:501:1)\n",
      "WARNING: [XFORM 203-631] Renaming function 'nnet::RNG::LFSR' to 'LFSR' (firmware/nnet_utils/nnet_sampling.h:24:13)\n",
      "WARNING: [XFORM 203-631] Renaming function 'nnet::GRNGArray<32u, ap_fixed<16, 4, (ap_q_mode)5, (ap_o_mode)3, 0>, ap_fixed<18, 8, (ap_q_mode)5, (ap_o_mode)3, 0>, 1024u, 10u>::nextGRNG' to 'nextGRNG' (firmware/nnet_utils/nnet_sampling.h:440:9)\n",
      "WARNING: [XFORM 203-631] Renaming function 'nnet::GRNG<ap_fixed<16, 4, (ap_q_mode)5, (ap_o_mode)3, 0> >::next' to 'next' (firmware/nnet_utils/nnet_sampling.h:388)\n",
      "WARNING: [XFORM 203-631] Renaming function 'nnet::GRNG<ap_fixed<16, 4, (ap_q_mode)5, (ap_o_mode)3, 0> >::hat_mul4' to 'hat_mul4' (firmware/nnet_utils/nnet_sampling.h:301:13)\n",
      "WARNING: [XFORM 203-631] Renaming function 'nnet::GRNG<ap_fixed<16, 4, (ap_q_mode)5, (ap_o_mode)3, 0> >::hat_mul3' to 'hat_mul3' (firmware/nnet_utils/nnet_sampling.h:222:13)\n",
      "WARNING: [XFORM 203-631] Renaming function 'nnet::GRNG<ap_fixed<16, 4, (ap_q_mode)5, (ap_o_mode)3, 0> >::hat_mul2' to 'hat_mul2' (firmware/nnet_utils/nnet_sampling.h:143:13)\n",
      "WARNING: [XFORM 203-631] Renaming function 'nnet::GRNG<ap_fixed<16, 4, (ap_q_mode)5, (ap_o_mode)3, 0> >::hat_mul1' to 'hat_mul1' (firmware/nnet_utils/nnet_sampling.h:64:10)\n",
      "WARNING: [XFORM 203-631] Renaming function 'nnet::GRNG<ap_fixed<16, 4, (ap_q_mode)5, (ap_o_mode)3, 0> >::adder_block' to 'adder_block' (firmware/nnet_utils/nnet_sampling.h:381:13)\n",
      "INFO: [HLS 200-111] Finished Architecture Synthesis Time (s): cpu = 00:00:40 ; elapsed = 00:00:42 . Memory (MB): peak = 993.902 ; gain = 586.449 ; free physical = 5484 ; free virtual = 11938\n",
      "INFO: [HLS 200-10] Starting hardware synthesis ...\n",
      "INFO: [HLS 200-10] Synthesizing 'myproject' ...\n",
      "WARNING: [SYN 201-103] Legalizing function name 'sampling<array<ap_fixed,32u>,array<ap_fixed<16,4,5,3,0>,32u>,config2>' to 'sampling_array_ap_fixed_32u_array_ap_fixed_16_4_5_3_0_32u_config2_s'.\n",
      "WARNING: [SYN 201-103] Legalizing function name 'next' to 'next_r'.\n",
      "INFO: [HLS 200-10] ----------------------------------------------------------------\n",
      "INFO: [HLS 200-42] -- Implementing module 'LFSR' \n",
      "INFO: [HLS 200-10] ----------------------------------------------------------------\n",
      "INFO: [SCHED 204-11] Starting scheduling ...\n",
      "INFO: [SCHED 204-61] Pipelining function 'LFSR'.\n",
      "INFO: [SCHED 204-61] Pipelining result : Target II = 1, Final II = 1, Depth = 1.\n",
      "INFO: [SCHED 204-11] Finished scheduling.\n",
      "INFO: [HLS 200-111]  Elapsed time: 42.24 seconds; current allocated memory: 307.647 MB.\n",
      "INFO: [BIND 205-100] Starting micro-architecture generation ...\n",
      "INFO: [BIND 205-101] Performing variable lifetime analysis.\n",
      "INFO: [BIND 205-101] Exploring resource sharing.\n",
      "INFO: [BIND 205-101] Binding ...\n",
      "INFO: [BIND 205-100] Finished micro-architecture generation.\n",
      "INFO: [HLS 200-111]  Elapsed time: 0.08 seconds; current allocated memory: 308.677 MB.\n",
      "INFO: [HLS 200-10] ----------------------------------------------------------------\n",
      "INFO: [HLS 200-42] -- Implementing module 'hat_mul1' \n",
      "INFO: [HLS 200-10] ----------------------------------------------------------------\n",
      "INFO: [SCHED 204-11] Starting scheduling ...\n",
      "INFO: [SCHED 204-61] Pipelining function 'hat_mul1'.\n",
      "INFO: [SCHED 204-61] Pipelining result : Target II = 1, Final II = 1, Depth = 1.\n",
      "INFO: [SCHED 204-11] Finished scheduling.\n",
      "INFO: [HLS 200-111]  Elapsed time: 0.14 seconds; current allocated memory: 308.838 MB.\n",
      "INFO: [BIND 205-100] Starting micro-architecture generation ...\n",
      "INFO: [BIND 205-101] Performing variable lifetime analysis.\n",
      "INFO: [BIND 205-101] Exploring resource sharing.\n",
      "INFO: [BIND 205-101] Binding ...\n",
      "INFO: [BIND 205-100] Finished micro-architecture generation.\n",
      "INFO: [HLS 200-111]  Elapsed time: 0.01 seconds; current allocated memory: 308.953 MB.\n",
      "INFO: [HLS 200-10] ----------------------------------------------------------------\n",
      "INFO: [HLS 200-42] -- Implementing module 'hat_mul2' \n",
      "INFO: [HLS 200-10] ----------------------------------------------------------------\n",
      "INFO: [SCHED 204-11] Starting scheduling ...\n",
      "INFO: [SCHED 204-61] Pipelining function 'hat_mul2'.\n",
      "INFO: [SCHED 204-61] Pipelining result : Target II = 1, Final II = 1, Depth = 1.\n",
      "INFO: [SCHED 204-11] Finished scheduling.\n",
      "INFO: [HLS 200-111]  Elapsed time: 0.02 seconds; current allocated memory: 309.039 MB.\n",
      "INFO: [BIND 205-100] Starting micro-architecture generation ...\n",
      "INFO: [BIND 205-101] Performing variable lifetime analysis.\n",
      "INFO: [BIND 205-101] Exploring resource sharing.\n",
      "INFO: [BIND 205-101] Binding ...\n",
      "INFO: [BIND 205-100] Finished micro-architecture generation.\n",
      "INFO: [HLS 200-111]  Elapsed time: 0.01 seconds; current allocated memory: 309.155 MB.\n",
      "INFO: [HLS 200-10] ----------------------------------------------------------------\n",
      "INFO: [HLS 200-42] -- Implementing module 'hat_mul3' \n",
      "INFO: [HLS 200-10] ----------------------------------------------------------------\n",
      "INFO: [SCHED 204-11] Starting scheduling ...\n",
      "INFO: [SCHED 204-61] Pipelining function 'hat_mul3'.\n",
      "INFO: [SCHED 204-61] Pipelining result : Target II = 1, Final II = 1, Depth = 1.\n",
      "INFO: [SCHED 204-11] Finished scheduling.\n",
      "INFO: [HLS 200-111]  Elapsed time: 0.02 seconds; current allocated memory: 309.256 MB.\n",
      "INFO: [BIND 205-100] Starting micro-architecture generation ...\n",
      "INFO: [BIND 205-101] Performing variable lifetime analysis.\n",
      "INFO: [BIND 205-101] Exploring resource sharing.\n",
      "INFO: [BIND 205-101] Binding ...\n",
      "INFO: [BIND 205-100] Finished micro-architecture generation.\n",
      "INFO: [HLS 200-111]  Elapsed time: 0.01 seconds; current allocated memory: 309.375 MB.\n",
      "INFO: [HLS 200-10] ----------------------------------------------------------------\n",
      "INFO: [HLS 200-42] -- Implementing module 'hat_mul4' \n",
      "INFO: [HLS 200-10] ----------------------------------------------------------------\n",
      "INFO: [SCHED 204-11] Starting scheduling ...\n",
      "INFO: [SCHED 204-61] Pipelining function 'hat_mul4'.\n",
      "INFO: [SCHED 204-61] Pipelining result : Target II = 1, Final II = 1, Depth = 1.\n",
      "INFO: [SCHED 204-11] Finished scheduling.\n",
      "INFO: [HLS 200-111]  Elapsed time: 0.02 seconds; current allocated memory: 309.460 MB.\n",
      "INFO: [BIND 205-100] Starting micro-architecture generation ...\n",
      "INFO: [BIND 205-101] Performing variable lifetime analysis.\n",
      "INFO: [BIND 205-101] Exploring resource sharing.\n",
      "INFO: [BIND 205-101] Binding ...\n",
      "INFO: [BIND 205-100] Finished micro-architecture generation.\n",
      "INFO: [HLS 200-111]  Elapsed time: 0.01 seconds; current allocated memory: 309.577 MB.\n",
      "INFO: [HLS 200-10] ----------------------------------------------------------------\n",
      "INFO: [HLS 200-42] -- Implementing module 'adder_block' \n",
      "INFO: [HLS 200-10] ----------------------------------------------------------------\n",
      "INFO: [SCHED 204-11] Starting scheduling ...\n",
      "INFO: [SCHED 204-61] Pipelining function 'adder_block'.\n",
      "INFO: [SCHED 204-61] Pipelining result : Target II = 1, Final II = 1, Depth = 1.\n",
      "INFO: [SCHED 204-11] Finished scheduling.\n",
      "INFO: [HLS 200-111]  Elapsed time: 0.02 seconds; current allocated memory: 309.698 MB.\n",
      "INFO: [BIND 205-100] Starting micro-architecture generation ...\n",
      "INFO: [BIND 205-101] Performing variable lifetime analysis.\n",
      "INFO: [BIND 205-101] Exploring resource sharing.\n",
      "INFO: [BIND 205-101] Binding ...\n",
      "INFO: [BIND 205-100] Finished micro-architecture generation.\n",
      "INFO: [HLS 200-111]  Elapsed time: 0.02 seconds; current allocated memory: 309.805 MB.\n",
      "INFO: [HLS 200-10] ----------------------------------------------------------------\n",
      "INFO: [HLS 200-42] -- Implementing module 'next_r' \n",
      "INFO: [HLS 200-10] ----------------------------------------------------------------\n",
      "INFO: [SCHED 204-11] Starting scheduling ...\n",
      "INFO: [SCHED 204-61] Pipelining function 'next'.\n",
      "INFO: [SCHED 204-61] Pipelining result : Target II = 1, Final II = 1, Depth = 2.\n",
      "INFO: [SCHED 204-11] Finished scheduling.\n",
      "INFO: [HLS 200-111]  Elapsed time: 0.01 seconds; current allocated memory: 309.865 MB.\n",
      "INFO: [BIND 205-100] Starting micro-architecture generation ...\n",
      "INFO: [BIND 205-101] Performing variable lifetime analysis.\n",
      "INFO: [BIND 205-101] Exploring resource sharing.\n",
      "INFO: [BIND 205-101] Binding ...\n",
      "INFO: [BIND 205-100] Finished micro-architecture generation.\n",
      "INFO: [HLS 200-111]  Elapsed time: 0.16 seconds; current allocated memory: 310.142 MB.\n",
      "INFO: [HLS 200-10] ----------------------------------------------------------------\n",
      "INFO: [HLS 200-42] -- Implementing module 'nextGRNG' \n",
      "INFO: [HLS 200-10] ----------------------------------------------------------------\n",
      "INFO: [SCHED 204-11] Starting scheduling ...\n",
      "INFO: [SCHED 204-61] Pipelining function 'nextGRNG'.\n",
      "INFO: [SCHED 204-61] Pipelining result : Target II = 1, Final II = 1, Depth = 2.\n",
      "INFO: [SCHED 204-11] Finished scheduling.\n",
      "INFO: [HLS 200-111]  Elapsed time: 0.11 seconds; current allocated memory: 310.757 MB.\n",
      "INFO: [BIND 205-100] Starting micro-architecture generation ...\n",
      "INFO: [BIND 205-101] Performing variable lifetime analysis.\n",
      "INFO: [BIND 205-101] Exploring resource sharing.\n",
      "INFO: [BIND 205-101] Binding ...\n",
      "INFO: [BIND 205-100] Finished micro-architecture generation.\n",
      "INFO: [HLS 200-111]  Elapsed time: 0.98 seconds; current allocated memory: 312.831 MB.\n",
      "INFO: [HLS 200-10] ----------------------------------------------------------------\n",
      "INFO: [HLS 200-42] -- Implementing module 'sampling_array_ap_fixed_32u_array_ap_fixed_16_4_5_3_0_32u_config2_s' \n",
      "INFO: [HLS 200-10] ----------------------------------------------------------------\n",
      "INFO: [SCHED 204-11] Starting scheduling ...\n",
      "INFO: [SCHED 204-61] Pipelining function 'sampling<array<ap_fixed,32u>,array<ap_fixed<16,4,5,3,0>,32u>,config2>'.\n",
      "INFO: [SCHED 204-61] Pipelining result : Target II = 1, Final II = 1, Depth = 3.\n",
      "INFO: [SCHED 204-11] Finished scheduling.\n",
      "INFO: [HLS 200-111]  Elapsed time: 2.86 seconds; current allocated memory: 317.613 MB.\n",
      "INFO: [BIND 205-100] Starting micro-architecture generation ...\n",
      "INFO: [BIND 205-101] Performing variable lifetime analysis.\n",
      "INFO: [BIND 205-101] Exploring resource sharing.\n",
      "INFO: [BIND 205-101] Binding ...\n",
      "INFO: [BIND 205-100] Finished micro-architecture generation.\n",
      "INFO: [HLS 200-111]  Elapsed time: 0.95 seconds; current allocated memory: 319.902 MB.\n",
      "INFO: [HLS 200-10] ----------------------------------------------------------------\n",
      "INFO: [HLS 200-42] -- Implementing module 'myproject' \n",
      "INFO: [HLS 200-10] ----------------------------------------------------------------\n",
      "INFO: [SCHED 204-11] Starting scheduling ...\n",
      "INFO: [SCHED 204-11] Finished scheduling.\n",
      "INFO: [HLS 200-111]  Elapsed time: 2.8 seconds; current allocated memory: 324.702 MB.\n",
      "INFO: [BIND 205-100] Starting micro-architecture generation ...\n",
      "INFO: [BIND 205-101] Performing variable lifetime analysis.\n",
      "INFO: [BIND 205-101] Exploring resource sharing.\n",
      "INFO: [BIND 205-101] Binding ...\n",
      "INFO: [BIND 205-100] Finished micro-architecture generation.\n",
      "INFO: [HLS 200-111]  Elapsed time: 0.96 seconds; current allocated memory: 326.897 MB.\n",
      "INFO: [HLS 200-10] ----------------------------------------------------------------\n",
      "INFO: [HLS 200-10] -- Generating RTL for module 'LFSR' \n",
      "INFO: [HLS 200-10] ----------------------------------------------------------------\n",
      "INFO: [RTGEN 206-100] Finished creating RTL model for 'LFSR'.\n",
      "INFO: [HLS 200-111]  Elapsed time: 2.82 seconds; current allocated memory: 333.753 MB.\n",
      "INFO: [HLS 200-10] ----------------------------------------------------------------\n",
      "INFO: [HLS 200-10] -- Generating RTL for module 'hat_mul1' \n",
      "INFO: [HLS 200-10] ----------------------------------------------------------------\n",
      "INFO: [RTGEN 206-100] Finished creating RTL model for 'hat_mul1'.\n",
      "INFO: [HLS 200-111]  Elapsed time: 0.32 seconds; current allocated memory: 337.569 MB.\n",
      "INFO: [HLS 200-10] ----------------------------------------------------------------\n",
      "INFO: [HLS 200-10] -- Generating RTL for module 'hat_mul2' \n",
      "INFO: [HLS 200-10] ----------------------------------------------------------------\n",
      "INFO: [RTGEN 206-100] Finished creating RTL model for 'hat_mul2'.\n",
      "INFO: [HLS 200-111]  Elapsed time: 0.05 seconds; current allocated memory: 338.156 MB.\n",
      "INFO: [HLS 200-10] ----------------------------------------------------------------\n",
      "INFO: [HLS 200-10] -- Generating RTL for module 'hat_mul3' \n",
      "INFO: [HLS 200-10] ----------------------------------------------------------------\n",
      "INFO: [RTGEN 206-100] Finished creating RTL model for 'hat_mul3'.\n",
      "INFO: [HLS 200-111]  Elapsed time: 0.06 seconds; current allocated memory: 338.698 MB.\n",
      "INFO: [HLS 200-10] ----------------------------------------------------------------\n",
      "INFO: [HLS 200-10] -- Generating RTL for module 'hat_mul4' \n",
      "INFO: [HLS 200-10] ----------------------------------------------------------------\n",
      "INFO: [RTGEN 206-100] Finished creating RTL model for 'hat_mul4'.\n",
      "INFO: [HLS 200-111]  Elapsed time: 0.06 seconds; current allocated memory: 339.255 MB.\n",
      "INFO: [HLS 200-10] ----------------------------------------------------------------\n",
      "INFO: [HLS 200-10] -- Generating RTL for module 'adder_block' \n",
      "INFO: [HLS 200-10] ----------------------------------------------------------------\n",
      "INFO: [RTGEN 206-100] Finished creating RTL model for 'adder_block'.\n",
      "INFO: [HLS 200-111]  Elapsed time: 0.06 seconds; current allocated memory: 339.819 MB.\n",
      "INFO: [HLS 200-10] ----------------------------------------------------------------\n",
      "INFO: [HLS 200-10] -- Generating RTL for module 'next_r' \n",
      "INFO: [HLS 200-10] ----------------------------------------------------------------\n",
      "INFO: [RTGEN 206-100] Finished creating RTL model for 'next_r'.\n",
      "INFO: [HLS 200-111]  Elapsed time: 0.06 seconds; current allocated memory: 340.404 MB.\n",
      "INFO: [HLS 200-10] ----------------------------------------------------------------\n",
      "INFO: [HLS 200-10] -- Generating RTL for module 'nextGRNG' \n",
      "INFO: [HLS 200-10] ----------------------------------------------------------------\n",
      "WARNING: [RTGEN 206-101] Register 'normal_grng_rng_regs_V_0' is power-on initialization.\n",
      "WARNING: [RTGEN 206-101] Register 'normal_grng_rng_regs_V_1' is power-on initialization.\n",
      "WARNING: [RTGEN 206-101] Register 'normal_grng_rng_regs_V_2' is power-on initialization.\n",
      "WARNING: [RTGEN 206-101] Register 'normal_grng_rng_regs_V_3' is power-on initialization.\n",
      "WARNING: [RTGEN 206-101] Register 'normal_grng_rng_regs_V_4' is power-on initialization.\n",
      "WARNING: [RTGEN 206-101] Register 'normal_grng_rng_regs_V_5' is power-on initialization.\n",
      "WARNING: [RTGEN 206-101] Register 'normal_grng_rng_regs_V_6' is power-on initialization.\n",
      "WARNING: [RTGEN 206-101] Register 'normal_grng_rng_regs_V_7' is power-on initialization.\n",
      "WARNING: [RTGEN 206-101] Register 'normal_grng_rng_regs_V_8' is power-on initialization.\n",
      "WARNING: [RTGEN 206-101] Register 'normal_grng_rng_regs_V_9' is power-on initialization.\n",
      "WARNING: [RTGEN 206-101] Register 'normal_grng_rng_regs_V_10' is power-on initialization.\n",
      "WARNING: [RTGEN 206-101] Register 'normal_grng_rng_regs_V_11' is power-on initialization.\n",
      "WARNING: [RTGEN 206-101] Register 'normal_grng_rng_regs_V_12' is power-on initialization.\n",
      "WARNING: [RTGEN 206-101] Register 'normal_grng_rng_regs_V_13' is power-on initialization.\n",
      "WARNING: [RTGEN 206-101] Register 'normal_grng_rng_regs_V_14' is power-on initialization.\n",
      "WARNING: [RTGEN 206-101] Register 'normal_grng_rng_regs_V_15' is power-on initialization.\n",
      "WARNING: [RTGEN 206-101] Register 'normal_grng_rng_regs_V_16' is power-on initialization.\n",
      "WARNING: [RTGEN 206-101] Register 'normal_grng_rng_regs_V_17' is power-on initialization.\n",
      "WARNING: [RTGEN 206-101] Register 'normal_grng_rng_regs_V_18' is power-on initialization.\n",
      "WARNING: [RTGEN 206-101] Register 'normal_grng_rng_regs_V_19' is power-on initialization.\n",
      "WARNING: [RTGEN 206-101] Register 'normal_grng_rng_regs_V_20' is power-on initialization.\n",
      "WARNING: [RTGEN 206-101] Register 'normal_grng_rng_regs_V_21' is power-on initialization.\n",
      "WARNING: [RTGEN 206-101] Register 'normal_grng_rng_regs_V_22' is power-on initialization.\n",
      "WARNING: [RTGEN 206-101] Register 'normal_grng_rng_regs_V_23' is power-on initialization.\n",
      "WARNING: [RTGEN 206-101] Register 'normal_grng_rng_regs_V_24' is power-on initialization.\n",
      "WARNING: [RTGEN 206-101] Register 'normal_grng_rng_regs_V_25' is power-on initialization.\n",
      "WARNING: [RTGEN 206-101] Register 'normal_grng_rng_regs_V_26' is power-on initialization.\n",
      "WARNING: [RTGEN 206-101] Register 'normal_grng_rng_regs_V_27' is power-on initialization.\n",
      "WARNING: [RTGEN 206-101] Register 'normal_grng_rng_regs_V_28' is power-on initialization.\n",
      "WARNING: [RTGEN 206-101] Register 'normal_grng_rng_regs_V_29' is power-on initialization.\n",
      "WARNING: [RTGEN 206-101] Register 'normal_grng_rng_regs_V_30' is power-on initialization.\n",
      "WARNING: [RTGEN 206-101] Register 'normal_grng_rng_regs_V_31' is power-on initialization.\n",
      "INFO: [RTGEN 206-100] Finished creating RTL model for 'nextGRNG'.\n",
      "INFO: [HLS 200-111]  Elapsed time: 0.22 seconds; current allocated memory: 344.715 MB.\n",
      "INFO: [HLS 200-10] ----------------------------------------------------------------\n",
      "INFO: [HLS 200-10] -- Generating RTL for module 'sampling_array_ap_fixed_32u_array_ap_fixed_16_4_5_3_0_32u_config2_s' \n",
      "INFO: [HLS 200-10] ----------------------------------------------------------------\n",
      "INFO: [RTGEN 206-100] Finished creating RTL model for 'sampling_array_ap_fixed_32u_array_ap_fixed_16_4_5_3_0_32u_config2_s'.\n",
      "INFO: [HLS 200-111]  Elapsed time: 2.99 seconds; current allocated memory: 355.171 MB.\n",
      "INFO: [HLS 200-10] ----------------------------------------------------------------\n",
      "INFO: [HLS 200-10] -- Generating RTL for module 'myproject' \n",
      "INFO: [HLS 200-10] ----------------------------------------------------------------\n",
      "INFO: [RTGEN 206-500] Setting interface mode on port 'myproject/input_1_V_data_0_V' to 'axis' (register, both mode).\n",
      "INFO: [RTGEN 206-500] Setting interface mode on port 'myproject/input_1_V_data_1_V' to 'axis' (register, both mode).\n",
      "INFO: [RTGEN 206-500] Setting interface mode on port 'myproject/input_1_V_data_2_V' to 'axis' (register, both mode).\n",
      "INFO: [RTGEN 206-500] Setting interface mode on port 'myproject/input_1_V_data_3_V' to 'axis' (register, both mode).\n",
      "INFO: [RTGEN 206-500] Setting interface mode on port 'myproject/input_1_V_data_4_V' to 'axis' (register, both mode).\n",
      "INFO: [RTGEN 206-500] Setting interface mode on port 'myproject/input_1_V_data_5_V' to 'axis' (register, both mode).\n",
      "INFO: [RTGEN 206-500] Setting interface mode on port 'myproject/input_1_V_data_6_V' to 'axis' (register, both mode).\n",
      "INFO: [RTGEN 206-500] Setting interface mode on port 'myproject/input_1_V_data_7_V' to 'axis' (register, both mode).\n",
      "INFO: [RTGEN 206-500] Setting interface mode on port 'myproject/input_1_V_data_8_V' to 'axis' (register, both mode).\n",
      "INFO: [RTGEN 206-500] Setting interface mode on port 'myproject/input_1_V_data_9_V' to 'axis' (register, both mode).\n",
      "INFO: [RTGEN 206-500] Setting interface mode on port 'myproject/input_1_V_data_10_V' to 'axis' (register, both mode).\n",
      "INFO: [RTGEN 206-500] Setting interface mode on port 'myproject/input_1_V_data_11_V' to 'axis' (register, both mode).\n",
      "INFO: [RTGEN 206-500] Setting interface mode on port 'myproject/input_1_V_data_12_V' to 'axis' (register, both mode).\n",
      "INFO: [RTGEN 206-500] Setting interface mode on port 'myproject/input_1_V_data_13_V' to 'axis' (register, both mode).\n",
      "INFO: [RTGEN 206-500] Setting interface mode on port 'myproject/input_1_V_data_14_V' to 'axis' (register, both mode).\n",
      "INFO: [RTGEN 206-500] Setting interface mode on port 'myproject/input_1_V_data_15_V' to 'axis' (register, both mode).\n",
      "INFO: [RTGEN 206-500] Setting interface mode on port 'myproject/input_1_V_data_16_V' to 'axis' (register, both mode).\n",
      "INFO: [RTGEN 206-500] Setting interface mode on port 'myproject/input_1_V_data_17_V' to 'axis' (register, both mode).\n",
      "INFO: [RTGEN 206-500] Setting interface mode on port 'myproject/input_1_V_data_18_V' to 'axis' (register, both mode).\n",
      "INFO: [RTGEN 206-500] Setting interface mode on port 'myproject/input_1_V_data_19_V' to 'axis' (register, both mode).\n",
      "INFO: [RTGEN 206-500] Setting interface mode on port 'myproject/input_1_V_data_20_V' to 'axis' (register, both mode).\n",
      "INFO: [RTGEN 206-500] Setting interface mode on port 'myproject/input_1_V_data_21_V' to 'axis' (register, both mode).\n",
      "INFO: [RTGEN 206-500] Setting interface mode on port 'myproject/input_1_V_data_22_V' to 'axis' (register, both mode).\n",
      "INFO: [RTGEN 206-500] Setting interface mode on port 'myproject/input_1_V_data_23_V' to 'axis' (register, both mode).\n",
      "INFO: [RTGEN 206-500] Setting interface mode on port 'myproject/input_1_V_data_24_V' to 'axis' (register, both mode).\n",
      "INFO: [RTGEN 206-500] Setting interface mode on port 'myproject/input_1_V_data_25_V' to 'axis' (register, both mode).\n",
      "INFO: [RTGEN 206-500] Setting interface mode on port 'myproject/input_1_V_data_26_V' to 'axis' (register, both mode).\n",
      "INFO: [RTGEN 206-500] Setting interface mode on port 'myproject/input_1_V_data_27_V' to 'axis' (register, both mode).\n",
      "INFO: [RTGEN 206-500] Setting interface mode on port 'myproject/input_1_V_data_28_V' to 'axis' (register, both mode).\n",
      "INFO: [RTGEN 206-500] Setting interface mode on port 'myproject/input_1_V_data_29_V' to 'axis' (register, both mode).\n",
      "INFO: [RTGEN 206-500] Setting interface mode on port 'myproject/input_1_V_data_30_V' to 'axis' (register, both mode).\n",
      "INFO: [RTGEN 206-500] Setting interface mode on port 'myproject/input_1_V_data_31_V' to 'axis' (register, both mode).\n",
      "INFO: [RTGEN 206-500] Setting interface mode on port 'myproject/layer2_out_V_data_0_V' to 'axis' (register, both mode).\n",
      "INFO: [RTGEN 206-500] Setting interface mode on port 'myproject/layer2_out_V_data_1_V' to 'axis' (register, both mode).\n",
      "INFO: [RTGEN 206-500] Setting interface mode on port 'myproject/layer2_out_V_data_2_V' to 'axis' (register, both mode).\n",
      "INFO: [RTGEN 206-500] Setting interface mode on port 'myproject/layer2_out_V_data_3_V' to 'axis' (register, both mode).\n",
      "INFO: [RTGEN 206-500] Setting interface mode on port 'myproject/layer2_out_V_data_4_V' to 'axis' (register, both mode).\n",
      "INFO: [RTGEN 206-500] Setting interface mode on port 'myproject/layer2_out_V_data_5_V' to 'axis' (register, both mode).\n",
      "INFO: [RTGEN 206-500] Setting interface mode on port 'myproject/layer2_out_V_data_6_V' to 'axis' (register, both mode).\n",
      "INFO: [RTGEN 206-500] Setting interface mode on port 'myproject/layer2_out_V_data_7_V' to 'axis' (register, both mode).\n",
      "INFO: [RTGEN 206-500] Setting interface mode on port 'myproject/layer2_out_V_data_8_V' to 'axis' (register, both mode).\n",
      "INFO: [RTGEN 206-500] Setting interface mode on port 'myproject/layer2_out_V_data_9_V' to 'axis' (register, both mode).\n",
      "INFO: [RTGEN 206-500] Setting interface mode on port 'myproject/layer2_out_V_data_10_V' to 'axis' (register, both mode).\n",
      "INFO: [RTGEN 206-500] Setting interface mode on port 'myproject/layer2_out_V_data_11_V' to 'axis' (register, both mode).\n",
      "INFO: [RTGEN 206-500] Setting interface mode on port 'myproject/layer2_out_V_data_12_V' to 'axis' (register, both mode).\n",
      "INFO: [RTGEN 206-500] Setting interface mode on port 'myproject/layer2_out_V_data_13_V' to 'axis' (register, both mode).\n",
      "INFO: [RTGEN 206-500] Setting interface mode on port 'myproject/layer2_out_V_data_14_V' to 'axis' (register, both mode).\n",
      "INFO: [RTGEN 206-500] Setting interface mode on port 'myproject/layer2_out_V_data_15_V' to 'axis' (register, both mode).\n",
      "INFO: [RTGEN 206-500] Setting interface mode on port 'myproject/layer2_out_V_data_16_V' to 'axis' (register, both mode).\n",
      "INFO: [RTGEN 206-500] Setting interface mode on port 'myproject/layer2_out_V_data_17_V' to 'axis' (register, both mode).\n",
      "INFO: [RTGEN 206-500] Setting interface mode on port 'myproject/layer2_out_V_data_18_V' to 'axis' (register, both mode).\n",
      "INFO: [RTGEN 206-500] Setting interface mode on port 'myproject/layer2_out_V_data_19_V' to 'axis' (register, both mode).\n",
      "INFO: [RTGEN 206-500] Setting interface mode on port 'myproject/layer2_out_V_data_20_V' to 'axis' (register, both mode).\n",
      "INFO: [RTGEN 206-500] Setting interface mode on port 'myproject/layer2_out_V_data_21_V' to 'axis' (register, both mode).\n",
      "INFO: [RTGEN 206-500] Setting interface mode on port 'myproject/layer2_out_V_data_22_V' to 'axis' (register, both mode).\n",
      "INFO: [RTGEN 206-500] Setting interface mode on port 'myproject/layer2_out_V_data_23_V' to 'axis' (register, both mode).\n",
      "INFO: [RTGEN 206-500] Setting interface mode on port 'myproject/layer2_out_V_data_24_V' to 'axis' (register, both mode).\n",
      "INFO: [RTGEN 206-500] Setting interface mode on port 'myproject/layer2_out_V_data_25_V' to 'axis' (register, both mode).\n",
      "INFO: [RTGEN 206-500] Setting interface mode on port 'myproject/layer2_out_V_data_26_V' to 'axis' (register, both mode).\n",
      "INFO: [RTGEN 206-500] Setting interface mode on port 'myproject/layer2_out_V_data_27_V' to 'axis' (register, both mode).\n",
      "INFO: [RTGEN 206-500] Setting interface mode on port 'myproject/layer2_out_V_data_28_V' to 'axis' (register, both mode).\n",
      "INFO: [RTGEN 206-500] Setting interface mode on port 'myproject/layer2_out_V_data_29_V' to 'axis' (register, both mode).\n",
      "INFO: [RTGEN 206-500] Setting interface mode on port 'myproject/layer2_out_V_data_30_V' to 'axis' (register, both mode).\n",
      "INFO: [RTGEN 206-500] Setting interface mode on port 'myproject/layer2_out_V_data_31_V' to 'axis' (register, both mode).\n",
      "INFO: [RTGEN 206-500] Setting interface mode on function 'myproject' to 'ap_ctrl_hs'.\n",
      "INFO: [RTGEN 206-100] Finished creating RTL model for 'myproject'.\n",
      "INFO: [HLS 200-111]  Elapsed time: 3.01 seconds; current allocated memory: 362.324 MB.\n",
      "INFO: [HLS 200-789] **** Estimated Fmax: 237.34 MHz\n",
      "INFO: [HLS 200-111] Finished generating all RTL models Time (s): cpu = 00:00:57 ; elapsed = 00:01:05 . Memory (MB): peak = 1188.496 ; gain = 781.043 ; free physical = 5411 ; free virtual = 11865\n",
      "INFO: [VHDL 208-304] Generating VHDL RTL for myproject.\n",
      "INFO: [VLOG 209-307] Generating Verilog RTL for myproject.\n",
      "***** C/RTL SYNTHESIS COMPLETED IN 0h1m3s *****\n",
      "INFO: [HLS 200-112] Total elapsed time: 65.51 seconds; peak allocated memory: 362.324 MB.\n",
      "INFO: [Common 17-206] Exiting vivado_hls at Mon Apr  1 16:15:27 2024...\n",
      "Vivado synthesis report not found.\n",
      "Cosim report not found.\n",
      "Timing report not found.\n"
     ]
    },
    {
     "data": {
      "text/plain": [
       "{'CSynthesisReport': {'TargetClockPeriod': '5.00',\n",
       "  'EstimatedClockPeriod': '4.213',\n",
       "  'BestLatency': '2',\n",
       "  'WorstLatency': '2',\n",
       "  'IntervalMin': '1',\n",
       "  'IntervalMax': '1',\n",
       "  'FF': '15078',\n",
       "  'LUT': '16827',\n",
       "  'BRAM_18K': '0',\n",
       "  'DSP': '0',\n",
       "  'URAM': '0',\n",
       "  'AvailableBRAM_18K': '280',\n",
       "  'AvailableDSP': '220',\n",
       "  'AvailableFF': '106400',\n",
       "  'AvailableLUT': '53200',\n",
       "  'AvailableURAM': '0'}}"
      ]
     },
     "execution_count": 38,
     "metadata": {},
     "output_type": "execute_result"
    }
   ],
   "source": [
    "\n",
    "# hls_model.build(csim=True, synth=False)\n",
    "hls_model.build(csim=False, synth=True, vsynth=False)"
   ]
  },
  {
   "cell_type": "code",
   "execution_count": null,
   "id": "d29f221a",
   "metadata": {},
   "outputs": [],
   "source": []
  },
  {
   "cell_type": "code",
   "execution_count": null,
   "id": "687aee23",
   "metadata": {},
   "outputs": [],
   "source": []
  },
  {
   "cell_type": "code",
   "execution_count": null,
   "id": "bdeea7c2",
   "metadata": {},
   "outputs": [],
   "source": []
  }
 ],
 "metadata": {
  "kernelspec": {
   "display_name": "Python 3 (ipykernel)",
   "language": "python",
   "name": "python3"
  },
  "language_info": {
   "codemirror_mode": {
    "name": "ipython",
    "version": 3
   },
   "file_extension": ".py",
   "mimetype": "text/x-python",
   "name": "python",
   "nbconvert_exporter": "python",
   "pygments_lexer": "ipython3",
   "version": "3.10.12"
  }
 },
 "nbformat": 4,
 "nbformat_minor": 5
}
